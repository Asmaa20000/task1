{
 "cells": [
  {
   "cell_type": "code",
   "execution_count": null,
   "id": "e23b2fdf",
   "metadata": {},
   "outputs": [],
   "source": [
    "from pyopenms import"
   ]
  },
  {
   "cell_type": "code",
   "execution_count": 12,
   "id": "f596aad0",
   "metadata": {
    "scrolled": true
   },
   "outputs": [
    {
     "name": "stdout",
     "output_type": "stream",
     "text": [
      "Requirement already satisfied: numpy in c:\\users\\microsoft\\anaconda3\\lib\\site-packages (1.21.5)\n",
      "Note: you may need to restart the kernel to use updated packages.\n"
     ]
    }
   ],
   "source": [
    "pip install numpy\n"
   ]
  },
  {
   "cell_type": "code",
   "execution_count": 13,
   "id": "2967f8c0",
   "metadata": {},
   "outputs": [
    {
     "name": "stdout",
     "output_type": "stream",
     "text": [
      "Collecting pyopenms\n",
      "  Downloading pyopenms-2.7.0-cp39-cp39-win_amd64.whl (29.4 MB)\n",
      "Requirement already satisfied: numpy in c:\\users\\microsoft\\anaconda3\\lib\\site-packages (from pyopenms) (1.21.5)\n",
      "Installing collected packages: pyopenms\n",
      "Successfully installed pyopenms-2.7.0\n",
      "Note: you may need to restart the kernel to use updated packages.\n"
     ]
    }
   ],
   "source": [
    "pip install pyopenms\n"
   ]
  },
  {
   "cell_type": "code",
   "execution_count": null,
   "id": "2719b443",
   "metadata": {},
   "outputs": [],
   "source": [
    "from PyOpenms import *"
   ]
  },
  {
   "cell_type": "code",
   "execution_count": null,
   "id": "650a97db",
   "metadata": {},
   "outputs": [],
   "source": [
    "symbol1 = AASequence.fromString(\"LKMF\")\n",
    "sum1 = symbol1.getMonoWeight()\n",
    "print (sum1)\n",
    "\n",
    "symbol2 = AASequence.fromString(\"L\")\n",
    "sum2 = symbol2.getMonoWeight()\n",
    "print (sum2)\n",
    "\n",
    "symbol3 = AASequence.fromString(\"K\")\n",
    "sum3 = symbol3.getMonoWeight()\n",
    "print (sum3)\n",
    "\n",
    "symbol4 = AASequence.fromString(\"M\")\n",
    "sum4 = symbol4.getMonoWeight()\n",
    "print (sum4)\n",
    "\n",
    "symbol5 = AASequence.fromString(\"F\")\n",
    "sum5 = symbol5.getMonoWeight()\n",
    "print (sum5)\n",
    "\n",
    "total=sum2+sum3+sum4+sum5\n",
    "print(total)"
   ]
  },
  {
   "cell_type": "code",
   "execution_count": 16,
   "id": "22013c45",
   "metadata": {},
   "outputs": [],
   "source": [
    "from pyopenms import*"
   ]
  },
  {
   "cell_type": "code",
   "execution_count": 17,
   "id": "8eed1abb",
   "metadata": {},
   "outputs": [
    {
     "name": "stdout",
     "output_type": "stream",
     "text": [
      "537.2984921016999\n",
      "131.0946294147\n",
      "146.10552844660003\n",
      "149.05105008089998\n",
      "165.0789793509\n",
      "591.3301872930999\n"
     ]
    }
   ],
   "source": [
    "symbol1 = AASequence.fromString(\"LKMF\")\n",
    "sum1 = symbol1.getMonoWeight()\n",
    "print (sum1)\n",
    "\n",
    "symbol2 = AASequence.fromString(\"L\")\n",
    "sum2 = symbol2.getMonoWeight()\n",
    "print (sum2)\n",
    "\n",
    "symbol3 = AASequence.fromString(\"K\")\n",
    "sum3 = symbol3.getMonoWeight()\n",
    "print (sum3)\n",
    "\n",
    "symbol4 = AASequence.fromString(\"M\")\n",
    "sum4 = symbol4.getMonoWeight()\n",
    "print (sum4)\n",
    "\n",
    "symbol5 = AASequence.fromString(\"F\")\n",
    "sum5 = symbol5.getMonoWeight()\n",
    "print (sum5)\n",
    "\n",
    "total=sum2+sum3+sum4+sum5\n",
    "print(total)"
   ]
  },
  {
   "cell_type": "code",
   "execution_count": null,
   "id": "5829721a",
   "metadata": {},
   "outputs": [],
   "source": []
  }
 ],
 "metadata": {
  "kernelspec": {
   "display_name": "Python 3 (ipykernel)",
   "language": "python",
   "name": "python3"
  },
  "language_info": {
   "codemirror_mode": {
    "name": "ipython",
    "version": 3
   },
   "file_extension": ".py",
   "mimetype": "text/x-python",
   "name": "python",
   "nbconvert_exporter": "python",
   "pygments_lexer": "ipython3",
   "version": "3.9.12"
  }
 },
 "nbformat": 4,
 "nbformat_minor": 5
}
